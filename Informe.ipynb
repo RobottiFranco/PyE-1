{
 "cells": [
  {
   "cell_type": "markdown",
   "id": "f06cf43f-2ca2-4ec9-9ddb-4d7705607f99",
   "metadata": {},
   "source": [
    "# Informe Tarea 1: Monty Hall\n",
    "## Tabla de contenidos:\n",
    "1. [Introducción](#introduccion)\n",
    "2. [Desarrollo](#desarrollo)\n",
    "    1. [Parte 1](#p1)\n",
    "    2. [Parte 2](#p2)\n",
    "    3. [Parte 3](#p3)\n",
    "    4. [Parte 4](#p4)\n",
    "    5. [Parte 5](#p5)\n",
    "    6. [Parte 6](#p6)\n",
    "4. [Simulaciones](#resultados)\n",
    "    1. [Preparación de datos](#preparacion)\n",
    "    2. [Visualización](#visualizacion)\n",
    "5. [Conclusión](#conclusion)\n",
    "\n",
    "\n",
    "## Introducción<a name=\"introduccion\"></a>\n",
    "que es el problema de monty hall, de donde surge, quien lo resolvio, algo de eso.\n",
    "\n",
    "## Desarrollo<a name=\"Desarrollo\"></a>\n",
    "A continuación detallamos el proceso que seguimos para desarrollar cada una de las partes que el trabajo requería.\n",
    "\n",
    "### Parte 1<a name=\"p1\"></a>\n",
    "<b>Letra:</b>\n",
    "\n",
    "> Escriba una función en Python que simule el problema de Monty Hall. La función deberá recibir\n",
    "> como parámetro un booleano que indique la estrategia elegida por el jugador, TRUE indica que el\n",
    "> participante cambiará de puerta, FALSE indica que el partipante no cambiar´a de puerta. La función\n",
    "> debe imprimir en pantalla los resultados de la simulación\n",
    ">  - Puerta elegida por el participante.\n",
    ">  - Puerta donde está el auto.\n",
    ">  - Puerta abierta por el presentador.\n",
    ">  - En caso de cambio de puerta indicar cual es la nueva puerta que elige el participante.\n",
    ">  - Resultado del concurso (el participante gana o no gana el auto).\n",
    "\n",
    "<b>Proceso</b>\n",
    "\n",
    "Desarrollamos un script que recibe un parametro \"<b>cambiar_puerta</b>\" de tipo booleano, que indica si el participante elije cambiar de puerta elegida luego de que se revele una de las puertas que no haya elegido, y un parametro opcional \"<b>imprimir</b>\", cuyo valor por defecto es <b>True</b>, para imprimir los datos que esta entrega requiere, pero evitar imprimirlos mas tarde, cuando, para realizar simulaciones del experimento, hacemos hasta 100_000 llamadas al método.\n",
    "\n",
    "El funcionamiento del script es el siguiente:\n",
    " - Se elije al azar un número entre 1 y 3 que representa el número de puerta en el que se esconde el auto.\n",
    " - Se elije al azar otro número entre 1 y 3 que representa la puerta que el participante elije.\n",
    " - Se abre una puerta al azar, que no sea la que eligió el participante, o la que esconde al auto detrás.\n",
    " - Si <b>cambiar_puerta</b> es <b>True</b>, se cambia la puerta elegida por el participante, por la otra puerta disponible.\n",
    " - Se guarda el resultado de si el participante eligió la puerta que contiene al auto.\n",
    " - Si <b>imprimir</b> es <b>True</b>, se imprimen los datos de:\n",
    "   - Puerta elegida por primera vez por el participante.\n",
    "   - Puerta en la cual el auto se encontraba desde un inicio.\n",
    "   - Puerta que el presentador abrió y no se encontraba el auto.\n",
    "   - Si <b>cambiar_puerta</b> es <b>True</b>, imprime la puerta que el participante eligió finalmente.\n",
    "   - Resultado del concurso.\n",
    " - Devuelve el resultado del concurso en formato booleano (True si la puerta con la cual el participante se plantó, escondía el auto).\n",
    "\n",
    "<b>Ejecución</b>\n",
    "\n",
    "A continuación se ejecutará el algoritmo, con el parámetro <b>cambiar_puerta</b> en <b>True</b>"
   ]
  },
  {
   "cell_type": "code",
   "execution_count": 98,
   "id": "2a67f083-51fd-4007-b1a6-f28b1969a1d1",
   "metadata": {},
   "outputs": [
    {
     "name": "stdout",
     "output_type": "stream",
     "text": [
      "Puerta elegida por el participante: 2\n",
      "Puerta donde está el auto: 2\n",
      "Puerta abierta por el presentador: 3\n",
      "El participante cambió a la puerta: 2\n",
      "Resultado del concurso: El participante gana el auto.\n"
     ]
    },
    {
     "data": {
      "text/plain": [
       "True"
      ]
     },
     "execution_count": 98,
     "metadata": {},
     "output_type": "execute_result"
    }
   ],
   "source": [
    "from main import simular_monty_hall\n",
    "\n",
    "simular_monty_hall(1)"
   ]
  },
  {
   "cell_type": "markdown",
   "id": "a9af1e43-bd2e-4819-b21d-455e759e3b26",
   "metadata": {},
   "source": [
    "### Parte 2<a name=\"p2\"></a>\n",
    "<b>Letra:</b>\n",
    "\n",
    "> Ejecutar la función 1.000, 10.000 y 100.000 veces para la estrategia de cambio de puerta y cuente la cantidad de veces que el juego resulta en que el participante gana el auto.\n",
    "> Repita esta parte para la estrategia donde no se cambia la puerta.\n",
    "\n",
    "<b>Proceso</b>\n",
    "\n",
    "Desarrollamos un script que recibe un parametro \"<b>num_simulaciones</b>\" de tipo booleano, que indica la cantidad de veces que el experimento se ejecutará, y un parámetro \"<b>cambiar_puerta</b>\", que indica si el participante cambiará la puerta elegida, en todas las simulaciones siguientes. El script cuenta la cantidad de simulaciones que resultan en victorias, y las retorna.\n",
    "\n",
    "El funcionamiento del script es sencillo, por lo que obviamos el detalle del paso-a-paso de éste.\n",
    "\n",
    "<b>Ejecución</b>\n",
    "\n",
    "A continuación se ejecutará el algoritmo, con las siguientes combinaciones de parámetros:\n",
    " - \"<b>num_simulaciones</b>\": 1_000, \"<b>cambiar_puerta</b>\": True\n",
    " - \"<b>num_simulaciones</b>\": 10_000, \"<b>cambiar_puerta</b>\": True\n",
    " - \"<b>num_simulaciones</b>\": 100_000, \"<b>cambiar_puerta</b>\": True\n",
    " - \"<b>num_simulaciones</b>\": 1_000, \"<b>cambiar_puerta</b>\": False\n",
    " - \"<b>num_simulaciones</b>\": 10_000, \"<b>cambiar_puerta</b>\": False\n",
    " - \"<b>num_simulaciones</b>\": 100_000, \"<b>cambiar_puerta</b>\": False"
   ]
  },
  {
   "cell_type": "code",
   "execution_count": 103,
   "id": "afb90c17-6875-4b66-aa25-fb2d0f2fbc52",
   "metadata": {},
   "outputs": [
    {
     "name": "stdout",
     "output_type": "stream",
     "text": [
      "Simulaciones cambiando puerta:\n",
      "\t1_000 veces:  638 victorias\n",
      "\t10_000 veces:  6684 victorias\n",
      "\t100_000 veces:  66724 victorias\n",
      "\n",
      "Simulaciones NO cambiando puerta:\n",
      "\t1_000 veces:  310 victorias\n",
      "\t10_000 veces:  3455 victorias\n",
      "\t100_000 veces:  33238 victorias\n"
     ]
    }
   ],
   "source": [
    "from main import simular_monty_hall_y_contar_victorias as sim\n",
    "\n",
    "print(\"Simulaciones cambiando puerta:\")\n",
    "print(\"\\t1_000 veces: \", sim(1_000, True), \"victorias\") \n",
    "print(\"\\t10_000 veces: \", sim(10_000, True), \"victorias\") \n",
    "print(\"\\t100_000 veces: \", sim(100_000, True), \"victorias\")\n",
    "print()\n",
    "print(\"Simulaciones NO cambiando puerta:\")\n",
    "print(\"\\t1_000 veces: \", sim(1_000, False), \"victorias\") \n",
    "print(\"\\t10_000 veces: \", sim(10_000, False), \"victorias\") \n",
    "print(\"\\t100_000 veces: \", sim(100_000, False), \"victorias\") "
   ]
  },
  {
   "cell_type": "markdown",
   "id": "43033ceb-2db3-40c3-be9f-f4db586794ce",
   "metadata": {},
   "source": [
    "## Resultados de simulaciones<a name=\"resultados\"></a>\n",
    "\n",
    "A continuación, utilizando partes del script previamente detallado, realizamos pruebas con 10, 20, 30, 100, 200, 300, 1000, 10000 y 100000 simulaciones del problema de Monty Hall, para observar cuales son los resultados del experimento de una forma más visual.\n",
    "\n",
    "### Preparación de los datos <a name=\"preparacion\"></a>"
   ]
  },
  {
   "cell_type": "code",
   "execution_count": 96,
   "id": "d6392293-b56b-46d7-bb20-4c6c641cf90f",
   "metadata": {},
   "outputs": [
    {
     "name": "stdout",
     "output_type": "stream",
     "text": [
      "Resultados cambiando la puerta:\n",
      "   simulaciones  resultados  probabilidad\n",
      "0            10           8      0.800000\n",
      "1            20          12      0.600000\n",
      "2            30          10      0.333333\n",
      "3           100          70      0.700000\n",
      "4           200         140      0.700000\n",
      "5           300         197      0.656667\n",
      "6          1000         695      0.695000\n",
      "7         10000        6740      0.674000\n",
      "8        100000       66667      0.666670\n",
      "\n",
      "Resultados sin cambiar la puerta:\n",
      "   simulaciones  resultados  probabilidad\n",
      "0            10           2      0.200000\n",
      "1            20           6      0.300000\n",
      "2            30          13      0.433333\n",
      "3           100          35      0.350000\n",
      "4           200          57      0.285000\n",
      "5           300          96      0.320000\n",
      "6          1000         335      0.335000\n",
      "7         10000        3315      0.331500\n",
      "8        100000       33223      0.332230\n"
     ]
    }
   ],
   "source": [
    "import pandas\n",
    "from main import simular_monty_hall_y_contar_victorias as sim\n",
    "\n",
    "cambiaPuertaResultados = pandas.DataFrame({\n",
    "    'simulaciones': [10, 20, 30, 100, 200, 300, 1000, 10000, 100000],\n",
    "    'resultados': [sim(10, True), sim(20, True), sim(20, True), sim(100, True), sim(200, True),\n",
    "                   sim(300, True), sim(1000, True), sim(10000, True), sim(100000, True)]\n",
    "})\n",
    "noCambiaPuertaResultados = pandas.DataFrame({\n",
    "    'simulaciones': [10, 20, 30, 100, 200, 300, 1000, 10000, 100000],\n",
    "    'resultados': [sim(10, False), sim(20, False), sim(30, False), sim(100, False), sim(200, False),\n",
    "                   sim(300, False), sim(1000, False), sim(10000, False), sim(100000, False)]\n",
    "})\n",
    "\n",
    "cambiaPuertaResultados['probabilidad'] = cambiaPuertaResultados['resultados'] / cambiaPuertaResultados['simulaciones']\n",
    "noCambiaPuertaResultados['probabilidad'] = noCambiaPuertaResultados['resultados'] / noCambiaPuertaResultados['simulaciones']\n",
    "\n",
    "\n",
    "\n",
    "print(\"Resultados cambiando la puerta:\")\n",
    "print(cambiaPuertaResultados)\n",
    "print()\n",
    "print(\"Resultados sin cambiar la puerta:\")\n",
    "print(noCambiaPuertaResultados)"
   ]
  },
  {
   "cell_type": "markdown",
   "id": "654ea5ae-22d6-4aa8-af9c-654cf7321465",
   "metadata": {},
   "source": [
    "### Visualización<a name=\"visualizacion\"></a>"
   ]
  },
  {
   "cell_type": "code",
   "execution_count": 90,
   "id": "a09043a8-8c52-430b-bff3-b6b967252a3a",
   "metadata": {},
   "outputs": [
    {
     "data": {
      "image/png": "[encoded data removed]",
      "text/plain": [
       "<Figure size 640x480 with 1 Axes>"
      ]
     },
     "metadata": {},
     "output_type": "display_data"
    }
   ],
   "source": [
    "import matplotlib.pyplot as plot\n",
    "\n",
    "fig, ax = plot.subplots()\n",
    "\n",
    "# Preparar parametros de la gráfica\n",
    "plot.xscale('log')\n",
    "\n",
    "plot.xlabel('Simulaciones')\n",
    "plot.ylabel('Probabilidad')\n",
    "\n",
    "plot.xlim(left=10, right=15000)\n",
    "plot.ylim(0,1)\n",
    "\n",
    "# Añadir items a graficar\n",
    "ax.plot(cambiaPuertaResultados['simulaciones'], cambiaPuertaResultados['probabilidad'], color='g', label='cambia', marker='o')\n",
    "ax.plot(noCambiaPuertaResultados['simulaciones'], noCambiaPuertaResultados['probabilidad'], color='r', label='NO cambia', marker='o')\n",
    "ax.plot([0,100000], [0.666, 0.666], color='black', label='66.6%', linestyle='dashed')\n",
    "ax.plot([0,100000], [0.333, 0.333], color='black', label='33.3%', linestyle='dotted')\n",
    "ax.legend()\n",
    "\n",
    "# Imprimir gráfica\n",
    "plot.show()"
   ]
  },
  {
   "cell_type": "markdown",
   "id": "00a0759e-4a29-494e-b392-e9b8de1ac3bd",
   "metadata": {},
   "source": [
    "Observamos que cuanto más veces simulamos el experimento, más se aproxima la probabilidad de dar con la puerta que tiene detrás al auto, a 66.6% (2/3) si elejimos cambiar de puerta una vez se haya descartado una puerta, y 33.3% (1/3) si optamos por no cambiar la puerta que elejimos en primer lugar."
   ]
  },
  {
   "cell_type": "markdown",
   "id": "020ea1ba-9c9c-4688-aa8a-3fd2b91bc0b8",
   "metadata": {},
   "source": [
    "## Conclusión<a name=\"conclusion\"></a>\n"
   ]
  }
 ],
 "metadata": {
  "kernelspec": {
   "display_name": "Python 3 (ipykernel)",
   "language": "python",
   "name": "python3"
  },
  "language_info": {
   "codemirror_mode": {
    "name": "ipython",
    "version": 3
   },
   "file_extension": ".py",
   "mimetype": "text/x-python",
   "name": "python",
   "nbconvert_exporter": "python",
   "pygments_lexer": "ipython3",
   "version": "3.11.3"
  }
 },
 "nbformat": 4,
 "nbformat_minor": 5
}
