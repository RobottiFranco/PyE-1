{
 "cells": [
  {
   "cell_type": "markdown",
   "id": "f06cf43f-2ca2-4ec9-9ddb-4d7705607f99",
   "metadata": {},
   "source": [
    "# Informe Tarea 1: Monty Hall\n",
    "## Tabla de contenidos:\n",
    "1. [Introducción](#introduccion)\n",
    "2. [Desarrollo](#desarrollo)\n",
    "    1. [Parte 1](#p1)\n",
    "    2. [Parte 2](#p2)\n",
    "    3. [Parte 3](#p3)\n",
    "    4. [Parte 4](#p4)\n",
    "    5. [Parte 5](#p5)\n",
    "    6. [Parte 6](#p6)\n",
    "4. [Simulaciones](#resultados)\n",
    "    1. [Preparación de datos](#preparacion)\n",
    "    2. [Visualización](#visualizacion)\n",
    "5. [Conclusión](#conclusion)\n",
    "\n",
    "\n",
    "## Introducción<a name=\"introduccion\"></a>\n",
    "El grupo esta conformado por\n",
    " - Leandro Alfonso\n",
    " - Gonzalo Da Silva\n",
    " - Franco Robotti\n",
    " - Amanda Seara\n",
    "\n",
    "<b>Problema de Monty Hall:</b>\n",
    "Se basa en un escenario de juego donde un concursante debe elegir una de tres puertas, detrás de una de las cuales hay un premio deseado y detrás de las otras dos, hay premios menos deseables. Después de que el concursante elige una puerta, el presentador, que sabe lo que hay detrás de cada puerta, revela una de las puertas no elegidas que contiene un premio menos deseable. Entonces, se le ofrece al concursante la oportunidad de cambiar su elección original de puerta. El debate gira en torno a si es estadísticamente más probable ganar el premio si se mantiene la elección inicial o si se cambia de puerta.\n",
    "\n",
    "En este informe, analizaremos la situación desde el punto de vista de la probabilidad y la estadística aplicada para determinar cuál es la mejor estrategia para el concursante.\n",
    "\n",
    "## Desarrollo<a name=\"Desarrollo\"></a>\n",
    "Nuestro código se encuentra en el archivo \"<b>monty_hall.py</b>\". Es posible ejecutar el archivo con python, el programa que se ejcutará pedirá mediante un input, el número de simulaciones a realizar, para luego pedir si el participante cambiará de puerta en todas las simulaciones siguientes.\n",
    "\n",
    "A continuación detallamos el proceso que seguimos para desarrollar cada una de las partes que el trabajo requería.\n",
    "\n",
    "### Parte 1<a name=\"p1\"></a>\n",
    "<b>Letra:</b>\n",
    "\n",
    "> Escriba una función en Python que simule el problema de Monty Hall. La función deberá recibir\n",
    "> como parámetro un booleano que indique la estrategia elegida por el jugador, TRUE indica que el\n",
    "> participante cambiará de puerta, FALSE indica que el partipante no cambiar´a de puerta. La función\n",
    "> debe imprimir en pantalla los resultados de la simulación\n",
    ">  - Puerta elegida por el participante.\n",
    ">  - Puerta donde está el auto.\n",
    ">  - Puerta abierta por el presentador.\n",
    ">  - En caso de cambio de puerta indicar cual es la nueva puerta que elige el participante.\n",
    ">  - Resultado del concurso (el participante gana o no gana el auto).\n",
    "\n",
    "<b>Proceso</b>\n",
    "\n",
    "Desarrollamos un script que recibe un parametro \"<b>cambiar_puerta</b>\" de tipo booleano, que indica si el participante elije cambiar de puerta elegida luego de que se revele una de las puertas que no haya elegido, y un parametro opcional \"<b>imprimir</b>\", cuyo valor por defecto es <b>True</b>, para imprimir los datos que esta entrega requiere, pero evitar imprimirlos mas tarde, cuando, para realizar simulaciones del experimento, hacemos hasta 100_000 llamadas al método.\n",
    "\n",
    "El funcionamiento del script es el siguiente:\n",
    " - Se elije al azar un número entre 1 y 3 que representa el número de puerta en el que se esconde el auto.\n",
    " - Se elije al azar otro número entre 1 y 3 que representa la puerta que el participante elije.\n",
    " - Se abre una puerta al azar, que no sea la que eligió el participante, o la que esconde al auto detrás.\n",
    " - Si <b>cambiar_puerta</b> es <b>True</b>, se cambia la puerta elegida por el participante, por la otra puerta disponible.\n",
    " - Se guarda el resultado de si el participante eligió la puerta que contiene al auto.\n",
    " - Si <b>imprimir</b> es <b>True</b>, se imprimen los datos de:\n",
    "   - Puerta elegida por primera vez por el participante.\n",
    "   - Puerta en la cual el auto se encontraba desde un inicio.\n",
    "   - Puerta que el presentador abrió y no se encontraba el auto.\n",
    "   - Si <b>cambiar_puerta</b> es <b>True</b>, imprime la puerta que el participante eligió finalmente.\n",
    "   - Resultado del concurso.\n",
    " - Devuelve el resultado del concurso en formato booleano (True si la puerta con la cual el participante se plantó, escondía el auto).\n",
    "\n",
    "<b>Ejecución</b>\n",
    "\n",
    "A continuación se ejecutará el algoritmo, con el parámetro <b>cambiar_puerta</b> en <b>True</b>"
   ]
  },
  {
   "cell_type": "code",
   "execution_count": null,
   "id": "2a67f083-51fd-4007-b1a6-f28b1969a1d1",
   "metadata": {
    "is_executing": true
   },
   "outputs": [],
   "source": [
    "from monty_hall import simular_monty_hall\n",
    "\n",
    "simular_monty_hall(1)"
   ]
  },
  {
   "cell_type": "markdown",
   "id": "a9af1e43-bd2e-4819-b21d-455e759e3b26",
   "metadata": {},
   "source": [
    "### Parte 2<a name=\"p2\"></a>\n",
    "<b>Letra:</b>\n",
    "\n",
    "> Ejecutar la función 1.000, 10.000 y 100.000 veces para la estrategia de cambio de puerta y cuente la cantidad de veces que el juego resulta en que el participante gana el auto.\n",
    "> Repita esta parte para la estrategia donde no se cambia la puerta.\n",
    "\n",
    "<b>Proceso</b>\n",
    "\n",
    "Desarrollamos un script que recibe un parametro \"<b>num_simulaciones</b>\" de tipo booleano, que indica la cantidad de veces que el experimento se ejecutará, y un parámetro \"<b>cambiar_puerta</b>\", que indica si el participante cambiará la puerta elegida, en todas las simulaciones siguientes. El script cuenta la cantidad de simulaciones que resultan en victorias, y las retorna.\n",
    "\n",
    "El funcionamiento del script es sencillo, por lo que obviamos el detalle del paso-a-paso de éste.\n",
    "\n",
    "<b>Ejecución</b>\n",
    "\n",
    "A continuación se ejecutará el algoritmo, con las siguientes combinaciones de parámetros:\n",
    " - \"<b>num_simulaciones</b>\": 1_000, \"<b>cambiar_puerta</b>\": True\n",
    " - \"<b>num_simulaciones</b>\": 10_000, \"<b>cambiar_puerta</b>\": True\n",
    " - \"<b>num_simulaciones</b>\": 100_000, \"<b>cambiar_puerta</b>\": True\n",
    " - \"<b>num_simulaciones</b>\": 1_000, \"<b>cambiar_puerta</b>\": False\n",
    " - \"<b>num_simulaciones</b>\": 10_000, \"<b>cambiar_puerta</b>\": False\n",
    " - \"<b>num_simulaciones</b>\": 100_000, \"<b>cambiar_puerta</b>\": False"
   ]
  },
  {
   "cell_type": "code",
   "execution_count": 2,
   "id": "afb90c17-6875-4b66-aa25-fb2d0f2fbc52",
   "metadata": {},
   "outputs": [
    {
     "name": "stdout",
     "output_type": "stream",
     "text": [
      "Simulaciones cambiando puerta:\n",
      "\t1_000 veces:  701 victorias\n",
      "\t10_000 veces:  6665 victorias\n",
      "\t100_000 veces:  66701 victorias\n",
      "\n",
      "Simulaciones NO cambiando puerta:\n",
      "\t1_000 veces:  337 victorias\n",
      "\t10_000 veces:  3356 victorias\n",
      "\t100_000 veces:  33260 victorias\n"
     ]
    }
   ],
   "source": [
    "from monty_hall import simular_monty_hall_y_contar_victorias as sim\n",
    "\n",
    "print(\"Simulaciones cambiando puerta:\")\n",
    "print(\"\\t1_000 veces: \", sim(1_000, True), \"victorias\") \n",
    "print(\"\\t10_000 veces: \", sim(10_000, True), \"victorias\") \n",
    "print(\"\\t100_000 veces: \", sim(100_000, True), \"victorias\")\n",
    "print()\n",
    "print(\"Simulaciones NO cambiando puerta:\")\n",
    "print(\"\\t1_000 veces: \", sim(1_000, False), \"victorias\") \n",
    "print(\"\\t10_000 veces: \", sim(10_000, False), \"victorias\") \n",
    "print(\"\\t100_000 veces: \", sim(100_000, False), \"victorias\") "
   ]
  },
  {
   "cell_type": "markdown",
   "id": "b07936ed",
   "metadata": {},
   "source": [
    "### Parte 3<a name=\"p3\"></a>\n",
    "<b>Letra:</b>\n",
    "\n",
    "> Calcular las frecuencias relativas del evento “el participante gana el auto” en cada una de las dos estrategias a partir de los resultados de la parte anterior.\n",
    "\n",
    "<b>Proceso:</b>\n",
    "\n",
    "Para calcular las fracuencias relativas del evento \"el participante gana el auto\" para las estrategias: cambiando la puerta y no cambiando la puerta, dividimos el número de veces que el participante ganó el auto entre el número total de simulaciones realizadas para esa estrategia en el ejercicio anterior.\n",
    "\n",
    "<b>Resultados:</b>\n",
    "\n",
    "A partir de las simulaciones previas, obtuvimos los siguientes resultados:\n",
    "\n",
    "Frecuancias relativas cambiando la puerta (se aproxima a 66,6%):\n",
    "\n",
    "    simulaciones      resultados      frecuencia relativa de victoria\n",
    "        1000              695                   0.695000\n",
    "       10000             6740                   0.674000\n",
    "      100000            66667                   0.666670\n",
    "\n",
    "Frecuancias relativas NO cambiando la puerta (se aproxima a 33,2%):\n",
    "\n",
    "    simulaciones      resultados      frecuencia relativa de victoria\n",
    "        1000              335                   0.335000\n",
    "       10000             3315                   0.331500\n",
    "      100000            33223                   0.332230"
   ]
  },
  {
   "cell_type": "markdown",
   "id": "43033ceb-2db3-40c3-be9f-f4db586794ce",
   "metadata": {},
   "source": [
    "## Resultados de simulaciones<a name=\"resultados\"></a>\n",
    "\n",
    "A continuación, utilizando partes del script previamente detallado, realizamos pruebas con 10, 20, 30, 100, 200, 300, 1000, 10000 y 100000 simulaciones del problema de Monty Hall, para observar cuales son los resultados del experimento de una forma más visual.\n",
    "\n",
    "Para correr los siguientes script son necesarios los siguientes módulos:\n",
    " - pandas\n",
    " - matplotlib\n",
    "\n",
    "### Preparación de los datos <a name=\"preparacion\"></a>"
   ]
  },
  {
   "cell_type": "code",
   "execution_count": 5,
   "id": "d6392293-b56b-46d7-bb20-4c6c641cf90f",
   "metadata": {},
   "outputs": [
    {
     "name": "stdout",
     "output_type": "stream",
     "text": [
      "Resultados cambiando la puerta:\n",
      "   simulaciones  resultados  probabilidad\n",
      "0            10           7      0.700000\n",
      "1            20          14      0.700000\n",
      "2            30          16      0.533333\n",
      "3           100          67      0.670000\n",
      "4           200         125      0.625000\n",
      "5           300         218      0.726667\n",
      "6          1000         665      0.665000\n",
      "7         10000        6616      0.661600\n",
      "8        100000       66484      0.664840\n",
      "\n",
      "Resultados sin cambiar la puerta:\n",
      "   simulaciones  resultados  probabilidad\n",
      "0            10           2      0.200000\n",
      "1            20           7      0.350000\n",
      "2            30          10      0.333333\n",
      "3           100          29      0.290000\n",
      "4           200          65      0.325000\n",
      "5           300         102      0.340000\n",
      "6          1000         321      0.321000\n",
      "7         10000        3236      0.323600\n",
      "8        100000       33120      0.331200\n"
     ]
    }
   ],
   "source": [
    "import pandas\n",
    "from monty_hall import simular_monty_hall_y_contar_victorias as sim\n",
    "\n",
    "cambiaPuertaResultados = pandas.DataFrame({\n",
    "    'simulaciones': [10, 20, 30, 100, 200, 300, 1000, 10000, 100000],\n",
    "    'resultados': [sim(10, True), sim(20, True), sim(20, True), sim(100, True), sim(200, True),\n",
    "                   sim(300, True), sim(1000, True), sim(10000, True), sim(100000, True)]\n",
    "})\n",
    "noCambiaPuertaResultados = pandas.DataFrame({\n",
    "    'simulaciones': [10, 20, 30, 100, 200, 300, 1000, 10000, 100000],\n",
    "    'resultados': [sim(10, False), sim(20, False), sim(30, False), sim(100, False), sim(200, False),\n",
    "                   sim(300, False), sim(1000, False), sim(10000, False), sim(100000, False)]\n",
    "})\n",
    "\n",
    "cambiaPuertaResultados['probabilidad'] = cambiaPuertaResultados['resultados'] / cambiaPuertaResultados['simulaciones']\n",
    "noCambiaPuertaResultados['probabilidad'] = noCambiaPuertaResultados['resultados'] / noCambiaPuertaResultados['simulaciones']\n",
    "\n",
    "\n",
    "\n",
    "print(\"Resultados cambiando la puerta:\")\n",
    "print(cambiaPuertaResultados)\n",
    "print()\n",
    "print(\"Resultados sin cambiar la puerta:\")\n",
    "print(noCambiaPuertaResultados)"
   ]
  },
  {
   "cell_type": "markdown",
   "id": "654ea5ae-22d6-4aa8-af9c-654cf7321465",
   "metadata": {},
   "source": [
    "### Visualización<a name=\"visualizacion\"></a>"
   ]
  },
  {
   "cell_type": "code",
   "execution_count": 6,
   "id": "a09043a8-8c52-430b-bff3-b6b967252a3a",
   "metadata": {},
   "outputs": [
    {
     "data": {
      "image/png": "[encoded data removed]",
      "text/plain": [
       "<Figure size 640x480 with 1 Axes>"
      ]
     },
     "metadata": {},
     "output_type": "display_data"
    }
   ],
   "source": [
    "import matplotlib.pyplot as plot\n",
    "\n",
    "fig, ax = plot.subplots()\n",
    "\n",
    "# Preparar parametros de la gráfica\n",
    "plot.xscale('log')\n",
    "\n",
    "plot.xlabel('Simulaciones')\n",
    "plot.ylabel('Probabilidad')\n",
    "\n",
    "plot.xlim(left=10, right=15000)\n",
    "plot.ylim(0,1)\n",
    "\n",
    "# Añadir items a graficar\n",
    "ax.plot(cambiaPuertaResultados['simulaciones'], cambiaPuertaResultados['probabilidad'], color='g', label='cambia', marker='o')\n",
    "ax.plot(noCambiaPuertaResultados['simulaciones'], noCambiaPuertaResultados['probabilidad'], color='r', label='NO cambia', marker='o')\n",
    "ax.plot([0,100000], [0.666, 0.666], color='black', label='66.6%', linestyle='dashed')\n",
    "ax.plot([0,100000], [0.333, 0.333], color='black', label='33.3%', linestyle='dotted')\n",
    "ax.legend()\n",
    "\n",
    "# Imprimir gráfica\n",
    "plot.show()"
   ]
  },
  {
   "cell_type": "markdown",
   "id": "00a0759e-4a29-494e-b392-e9b8de1ac3bd",
   "metadata": {},
   "source": [
    "Observamos que cuanto más veces simulamos el experimento, más se aproxima la probabilidad de dar con la puerta que tiene detrás al auto, a 66.6% (2/3) si elejimos cambiar de puerta una vez se haya descartado una puerta, y 33.3% (1/3) si optamos por no cambiar la puerta que elejimos en primer lugar."
   ]
  },
  {
   "cell_type": "markdown",
   "id": "4aa75a9c",
   "metadata": {},
   "source": [
    "## Parte 5"
   ]
  },
  {
   "cell_type": "markdown",
   "id": "6608bae0",
   "metadata": {},
   "source": [
    "\n",
    "El problema de Monty Hall:\n",
    "\n",
    "El problema de Monty Hall, también conocido como la paradoja de Monty Hall, es un acertijo de probabilidad que ha generado controversia y fascinación por su contraintuitiva solución. En este problema, un jugador elige una de tres puertas, detrás de una de las cuales hay un premio (por ejemplo, un coche) y detrás de las otras dos hay cabras. Tras la elección del jugador, el presentador, que sabe lo que hay detrás de cada puerta, abre una de las dos puertas restantes que tiene una cabra. Luego, le ofrece al jugador la opción de cambiar su elección a la puerta restante.\n",
    "\n",
    "### Estrategias y resultados:\n",
    "\n",
    "#### 1. Cambiar de puerta:\n",
    "\n",
    "Probabilidad de ganar: 2/3\n",
    "\n",
    "Demostración:\n",
    "\n",
    "- Sea Pi la probabilidad de que el premio esté detrás de la puerta i, donde i=1,2,3.\n",
    "\n",
    "- Al elegir una puerta al principio, la probabilidad de que tenga el premio es Pi= 1/3 para cada puerta.\n",
    "\n",
    "- Tras abrir el presentador una puerta con una cabra, la probabilidad de que el premio esté detrás de la puerta que el jugador no eligió aumenta a P noElegida 2/3\n",
    "Esto se puede demostrar de la siguiente manera:\n",
    "    - La probabilidad de que el premio esté detrás de una de las dos puertas no elegidas es de 2/3, ya que solo una de las tres puertas tiene el premio.\n",
    "    - La probabilidad de que el premio esté detrás de la puerta que el jugador ya eligió no cambia, ya que la información proporcionada por el presentador no afecta a la probabilidad de la puerta elegida inicialmente.\n",
    "\n",
    "\n",
    "##### 2. No cambiar de puerta:\n",
    "\n",
    "Probabilidad de ganar: 1/3\n",
    "\n",
    "Demostración:\n",
    "\n",
    "La probabilidad de que el premio esté detrás de la puerta que el jugador eligió desde el principio se mantiene en P \n",
    "elegida = 1/3. Cambiar o no de puerta no afecta la probabilidad inicial de la puerta elegida.\n",
    "\n",
    "### Comparación de estrategias:\n",
    "\n",
    "Al comparar ambas estrategias, se observa que cambiar de puerta tiene una probabilidad de ganar dos veces mayor que no cambiar de puerta. Esto puede parecer contraintuitivo, ya que podría pensarse que ambas opciones tienen la misma probabilidad (50%). Sin embargo, la clave está en que la información proporcionada por el presentador al abrir una puerta con una cabra cambia las probabilidades originales.\n",
    "P(A∣B)= P(A∩B) / P(B)\n",
    "\n",
    "### Formalización matemática:\n",
    "\n",
    "El problema de Monty Hall se puede formalizar utilizando la teoría de la probabilidad condicional. La probabilidad condicional de un evento A dado un evento B se define como:\n",
    "\n",
    "En este caso, el evento A es ganar el premio y el evento B es que el presentador abra una puerta con una cabra. La probabilidad de ganar el premio cambiando de puerta se puede calcular como:\n",
    "P(A∣Cambiar)= P(A∩Cambiar) / P(Cambiar)\n",
    "\n",
    "Donde P(A∩Cambiar) es la probabilidad de ganar el premio y cambiar de puerta, y P(Cambiar) es la probabilidad de que el jugador decida cambiar de puerta.\n",
    "\n",
    "La probabilidad de que el jugador decida cambiar de puerta es 1, ya que el presentador siempre le ofrece la opción de hacerlo. Por lo tanto, la probabilidad de ganar el premio cambiando de puerta se reduce a:\n",
    "​\n",
    "P(A∣Cambiar)=P(A∩Cambiar)\n",
    "​\n",
    "Para calcular P(A∩Cambiar), podemos utilizar la siguiente lógica:\n",
    "\n",
    "Si el premio está detrás de la puerta que el jugador eligió inicialmente, entonces el jugador solo puede ganar si cambia de puerta.\n",
    "Si el premio está detrás de una de las dos puertas que el jugador no eligió inicialmente, entonces el jugador gana independientemente de si cambia de puerta o no.\n",
    "\n",
    "La probabilidad de que el premio esté detrás de la puerta que el jugador eligió inicialmente es 1/3. La probabilidad de que el premio esté detrás de una de las dos puertas que el jugador no eligió\n"
   ]
  },
  {
   "cell_type": "markdown",
   "id": "0a944a33",
   "metadata": {},
   "source": [
    "## Parte 6"
   ]
  },
  {
   "cell_type": "markdown",
   "id": "8ea85e01",
   "metadata": {},
   "source": [
    "El presente informe describe el procedimiento utilizado para la resolución de la Tarea, la cual consiste en el análisis del problema de Monty Hall. Se abordará la el procedimiento realizado para el codigo, las simulaciones realizadas, demostracioens y conclusiones obtenidas.\n",
    "\n",
    "## Metodología:\n",
    "\n",
    "Implementación de la función: Se desarrolló una función en Python que simula el problema de Monty Hall. La función toma como parámetro un booleano que indica si el participante cambia de puerta o no. La función imprime los resultados de cada simulación, incluyendo:\n",
    "\n",
    "Puerta elegida por el participante.\n",
    "Puerta donde se encuentra el auto.\n",
    "Puerta abierta por el presentador.\n",
    "Puerta final elegida por el participante (si cambia).\n",
    "Resultado del concurso (si el participante gana o no el auto).\n",
    "Simulaciones: Se ejecutaron dos series de simulaciones con la función desarrollada:\n",
    "\n",
    "Ejecucion: Se ejecutó la función 1.000, 10.000 y 100.000 veces para ambas estrategias (cambiar y no cambiar de puerta), contabilizando las victorias en cada caso.\n",
    "\n",
    "Análisis de datos: Se organizaron los resultados de las simulaciones en DataFrames para su análisis y posterior visualización.\n",
    "\n",
    "Visualización: Se creó una gráfica que muestra la probabilidad de ganar en función del número de simulaciones para ambas estrategias.\n",
    "\n",
    "Demostracion: Se analizan los resultados y la informacion recopilada y se puede llegar a una estrategia optima, comparacion de estrategias y formalizacion matematica del caso.\n",
    "\n",
    "Conslusiónes: A traves de todos los pasos previos, se logran concluir una estrategia, la probabilidad condicional, sus fundamentos y un entendimiento mas profundo de la probabilidad y el problema de Monty Hall."
   ]
  },
  {
   "cell_type": "markdown",
   "id": "020ea1ba-9c9c-4688-aa8a-3fd2b91bc0b8",
   "metadata": {},
   "source": [
    "## Conclusión<a name=\"conclusion\"></a>\n"
   ]
  },
  {
   "cell_type": "markdown",
   "id": "4999dc02",
   "metadata": {},
   "source": [
    "En conclusión, el estudio del problema de Monty Hall revela una discrepancia entre la intuición y la realidad en términos de probabilidades. Aunque intuitivamente podría pensarse que cambiar de puerta no influye en las posibilidades de ganar, los resultados muestran lo contrario. Al analizar detenidamente el proceso, se evidencia que la decisión de cambiar de puerta aumenta de manera significativa las probabilidades de obtener el premio deseado, las duplica.\n",
    "\n",
    "Este fenómeno se fundamenta en el cambio de información que se produce al abrir una puerta vacía. Inicialmente, la probabilidad de seleccionar la puerta correcta es de 1/3. No obstante, al revelarse una puerta vacía, esta probabilidad no se ve afectada, permaneciendo en 1/3, mientras que la probabilidad combinada de las dos puertas restantes aumenta a 2/3.\n",
    "\n",
    "Por lo tanto, se concluye que la estrategia más óptima para maximizar las posibilidades de éxito en el problema de Monty Hall radica en cambiar de puerta. Este enfoque, respaldado por simulaciones, demuestra que al hacerlo, la probabilidad de ganar se aproxima a 2/3, en comparación con el 1/3 que se mantiene al no cambiar.\n",
    "\n",
    "Además, se destaca que esta estrategia es válida a largo plazo, ya que la probabilidad de ganar el premio se consolida en torno al 66.6% con un mayor número de simulaciones. Sin embargo, es importante reconocer que este resultado se refiere a una perspectiva a largo plazo, mientras que en un escenario individual, la probabilidad de éxito sigue siendo independiente de la estrategia seleccionada, manteniéndose en 1/2.\n",
    "\n",
    "Finalmente, el problema de Monty Hall ejemplifica la relevancia de la probabilidad condicional en la toma de decisiones. La información obtenida a lo largo del juego tiene un impacto significativo en las probabilidades, subrayando la importancia de considerar este aspecto al desarrollar estrategias. Por lo tanto, este problema insta a los individuos a reflexionar sobre la influencia de la intuición y los sesgos cognitivos en la toma de decisiones, fomentando un enfoque más racional y fundamentado en datos."
   ]
  },
  {
   "cell_type": "markdown",
   "id": "e6209612",
   "metadata": {},
   "source": [
    "Resumiendo:\n",
    "\n",
    "1. Cambiar de puerta aumenta las posibilidades de ganar:\n",
    "\n",
    "    - Las simulaciones muestran que al cambiar de puerta, la probabilidad de ganar el auto se aproxima a 2/3 (66.6%), mientras que si no se cambia, la probabilidad se aproxima a 1/3 (33.3%).\n",
    "    - Esto puede parecer contraintuitivo, pero se debe a que al abrir una puerta vacía, se elimina una posibilidad de perder y se concentra la probabilidad en las dos puertas restantes.\n",
    "    - Cambiar de puerta asegura que se elige entre las dos puertas que aún tienen posibilidades de tener el auto, mientras que no cambiar de puerta te deja con la misma probabilidad que elegiste al principio (1/3).\n",
    "\n",
    "2. La estrategia de cambiar de puerta es válida a largo plazo:\n",
    "\n",
    "    - La probabilidad de ganar al cambiar de puerta se acerca a 2/3 a medida que aumenta el número de simulaciones.\n",
    "    - Esto significa que, a largo plazo, si siempre se cambia de puerta, se ganará el auto el 66.6% de las veces.\n",
    "    - Es importante recordar que este resultado es a largo plazo, y en una sola partida, la probabilidad de ganar sigue siendo 1/2, independientemente de la estrategia que se elija.\n",
    "\n",
    "3. El problema de Monty Hall es un ejemplo de la importancia de la probabilidad condicional:\n",
    "\n",
    "    - La probabilidad de ganar el auto no es la misma al principio del juego que después de que se abre una puerta vacía.\n",
    "    - Es importante tener en cuenta la información que se ha obtenido a lo largo del juego para tomar decisiones óptimas.\n",
    "    - El problema de Monty Hall nos enseña a pensar en términos de probabilidad condicional y a no dejarnos llevar por nuestra intuición.\n"
   ]
  }
 ],
 "metadata": {
  "kernelspec": {
   "display_name": "Python 3 (ipykernel)",
   "language": "python",
   "name": "python3"
  },
  "language_info": {
   "codemirror_mode": {
    "name": "ipython",
    "version": 3
   },
   "file_extension": ".py",
   "mimetype": "text/x-python",
   "name": "python",
   "nbconvert_exporter": "python",
   "pygments_lexer": "ipython3",
   "version": "3.12.2"
  }
 },
 "nbformat": 4,
 "nbformat_minor": 5
}
